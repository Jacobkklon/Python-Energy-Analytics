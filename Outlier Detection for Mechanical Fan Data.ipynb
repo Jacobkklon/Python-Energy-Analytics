{
 "cells": [
  {
   "cell_type": "code",
   "execution_count": 1,
   "id": "9518854d",
   "metadata": {},
   "outputs": [],
   "source": [
    "%matplotlib inline\n",
    "import matplotlib.pyplot as plt\n",
    "import matplotlib as mpl\n",
    "import pandas as pd\n",
    "import numpy as np"
   ]
  },
  {
   "cell_type": "code",
   "execution_count": 15,
   "id": "5a4c5fa1",
   "metadata": {},
   "outputs": [
    {
     "data": {
      "text/html": [
       "<div>\n",
       "<style scoped>\n",
       "    .dataframe tbody tr th:only-of-type {\n",
       "        vertical-align: middle;\n",
       "    }\n",
       "\n",
       "    .dataframe tbody tr th {\n",
       "        vertical-align: top;\n",
       "    }\n",
       "\n",
       "    .dataframe thead th {\n",
       "        text-align: right;\n",
       "    }\n",
       "</style>\n",
       "<table border=\"1\" class=\"dataframe\">\n",
       "  <thead>\n",
       "    <tr style=\"text-align: right;\">\n",
       "      <th></th>\n",
       "      <th>fan_A</th>\n",
       "      <th>fan_B</th>\n",
       "    </tr>\n",
       "  </thead>\n",
       "  <tbody>\n",
       "    <tr>\n",
       "      <th>0</th>\n",
       "      <td>55</td>\n",
       "      <td>46</td>\n",
       "    </tr>\n",
       "    <tr>\n",
       "      <th>1</th>\n",
       "      <td>52</td>\n",
       "      <td>55</td>\n",
       "    </tr>\n",
       "    <tr>\n",
       "      <th>2</th>\n",
       "      <td>51</td>\n",
       "      <td>59</td>\n",
       "    </tr>\n",
       "    <tr>\n",
       "      <th>3</th>\n",
       "      <td>59</td>\n",
       "      <td>50</td>\n",
       "    </tr>\n",
       "    <tr>\n",
       "      <th>4</th>\n",
       "      <td>60</td>\n",
       "      <td>47</td>\n",
       "    </tr>\n",
       "    <tr>\n",
       "      <th>5</th>\n",
       "      <td>56</td>\n",
       "      <td>62</td>\n",
       "    </tr>\n",
       "    <tr>\n",
       "      <th>6</th>\n",
       "      <td>54</td>\n",
       "      <td>53</td>\n",
       "    </tr>\n",
       "    <tr>\n",
       "      <th>7</th>\n",
       "      <td>54</td>\n",
       "      <td>55</td>\n",
       "    </tr>\n",
       "  </tbody>\n",
       "</table>\n",
       "</div>"
      ],
      "text/plain": [
       "   fan_A  fan_B\n",
       "0     55     46\n",
       "1     52     55\n",
       "2     51     59\n",
       "3     59     50\n",
       "4     60     47\n",
       "5     56     62\n",
       "6     54     53\n",
       "7     54     55"
      ]
     },
     "execution_count": 15,
     "metadata": {},
     "output_type": "execute_result"
    }
   ],
   "source": [
    "#Problem 1:\n",
    "#First, enter the givens\n",
    "fan_A = [55,52,51,59,60,56,54,54]\n",
    "fan_B = [46,55,59,50,47,62,53,55]\n",
    "alpha = 0.05\n",
    "n = len(fan_A)\n",
    "df1 = pd.DataFrame()\n",
    "df1['fan_A'] = fan_A\n",
    "df1['fan_B'] = fan_B\n",
    "df1"
   ]
  },
  {
   "cell_type": "code",
   "execution_count": 22,
   "id": "fd703d5d",
   "metadata": {},
   "outputs": [
    {
     "data": {
      "text/plain": [
       "[46, 47, 50, 51, 52, 53, 54, 54, 55, 55, 55, 56, 59, 59, 60, 62]"
      ]
     },
     "execution_count": 22,
     "metadata": {},
     "output_type": "execute_result"
    }
   ],
   "source": [
    "#To establish ranks, we create separate columns of df where the rank placement is considered\n",
    "alldata = fan_A + fan_B\n",
    "sorted(alldata)\n",
    "#The labelling of rankings is done by hand and then transferred to Python"
   ]
  },
  {
   "cell_type": "code",
   "execution_count": 23,
   "id": "af6b157d",
   "metadata": {},
   "outputs": [
    {
     "data": {
      "text/html": [
       "<div>\n",
       "<style scoped>\n",
       "    .dataframe tbody tr th:only-of-type {\n",
       "        vertical-align: middle;\n",
       "    }\n",
       "\n",
       "    .dataframe tbody tr th {\n",
       "        vertical-align: top;\n",
       "    }\n",
       "\n",
       "    .dataframe thead th {\n",
       "        text-align: right;\n",
       "    }\n",
       "</style>\n",
       "<table border=\"1\" class=\"dataframe\">\n",
       "  <thead>\n",
       "    <tr style=\"text-align: right;\">\n",
       "      <th></th>\n",
       "      <th>fan_A</th>\n",
       "      <th>fan_B</th>\n",
       "      <th>rank_A</th>\n",
       "      <th>rank_B</th>\n",
       "    </tr>\n",
       "  </thead>\n",
       "  <tbody>\n",
       "    <tr>\n",
       "      <th>0</th>\n",
       "      <td>55</td>\n",
       "      <td>46</td>\n",
       "      <td>10.0</td>\n",
       "      <td>1.0</td>\n",
       "    </tr>\n",
       "    <tr>\n",
       "      <th>1</th>\n",
       "      <td>52</td>\n",
       "      <td>55</td>\n",
       "      <td>5.0</td>\n",
       "      <td>10.0</td>\n",
       "    </tr>\n",
       "    <tr>\n",
       "      <th>2</th>\n",
       "      <td>51</td>\n",
       "      <td>59</td>\n",
       "      <td>4.0</td>\n",
       "      <td>13.5</td>\n",
       "    </tr>\n",
       "    <tr>\n",
       "      <th>3</th>\n",
       "      <td>59</td>\n",
       "      <td>50</td>\n",
       "      <td>13.5</td>\n",
       "      <td>3.0</td>\n",
       "    </tr>\n",
       "    <tr>\n",
       "      <th>4</th>\n",
       "      <td>60</td>\n",
       "      <td>47</td>\n",
       "      <td>15.0</td>\n",
       "      <td>2.0</td>\n",
       "    </tr>\n",
       "    <tr>\n",
       "      <th>5</th>\n",
       "      <td>56</td>\n",
       "      <td>62</td>\n",
       "      <td>12.0</td>\n",
       "      <td>16.0</td>\n",
       "    </tr>\n",
       "    <tr>\n",
       "      <th>6</th>\n",
       "      <td>54</td>\n",
       "      <td>53</td>\n",
       "      <td>7.5</td>\n",
       "      <td>6.0</td>\n",
       "    </tr>\n",
       "    <tr>\n",
       "      <th>7</th>\n",
       "      <td>54</td>\n",
       "      <td>55</td>\n",
       "      <td>7.5</td>\n",
       "      <td>10.0</td>\n",
       "    </tr>\n",
       "  </tbody>\n",
       "</table>\n",
       "</div>"
      ],
      "text/plain": [
       "   fan_A  fan_B  rank_A  rank_B\n",
       "0     55     46    10.0     1.0\n",
       "1     52     55     5.0    10.0\n",
       "2     51     59     4.0    13.5\n",
       "3     59     50    13.5     3.0\n",
       "4     60     47    15.0     2.0\n",
       "5     56     62    12.0    16.0\n",
       "6     54     53     7.5     6.0\n",
       "7     54     55     7.5    10.0"
      ]
     },
     "execution_count": 23,
     "metadata": {},
     "output_type": "execute_result"
    }
   ],
   "source": [
    "df1['rank_A'] = [10,5,4,13.5,15,12,7.5,7.5] #Associated with Fan A ranks\n",
    "df1['rank_B'] = [1,10,13.5,3,2,16,6,10] #Associated with Fan B ranks\n",
    "df1"
   ]
  },
  {
   "cell_type": "code",
   "execution_count": 27,
   "id": "7079afbc",
   "metadata": {},
   "outputs": [
    {
     "data": {
      "text/plain": [
       "(74.5, 61.5)"
      ]
     },
     "execution_count": 27,
     "metadata": {},
     "output_type": "execute_result"
    }
   ],
   "source": [
    "#Defining key stuff for Wilcoxon, including sum totals of ranks:\n",
    "n1 = n\n",
    "n2 = n\n",
    "T_A = df1['rank_A'].sum()\n",
    "T_B = df1['rank_B'].sum()\n",
    "T_A,T_B"
   ]
  },
  {
   "cell_type": "code",
   "execution_count": 28,
   "id": "d5c4db13",
   "metadata": {},
   "outputs": [],
   "source": [
    "#Now that we have the calculated values, we compare to the table A.11 values for this stuation\n",
    "#To identify if one of the fans is better, we compare the rank values to the 0.05 one-tailed bounds:\n",
    "T_Lower = 52\n",
    "T_Upper = 84\n",
    "#Given that the values of T_A and T_B are within the lower and upper bounds, neither of the one sided hypothesis tests\n",
    "#differentiating the two fans let us reject the null hypothesis when alpha = 0.05. Thus, the conclusion is that \n",
    "#we are unable to prove in a statistically significant way which fan is better. \n",
    "#However, looking by raw values, if a decision had to be made, it would be said that Fan A is better than Fan B\n",
    "#based on a higher rank sum."
   ]
  },
  {
   "cell_type": "code",
   "execution_count": 76,
   "id": "0d32c639",
   "metadata": {},
   "outputs": [
    {
     "data": {
      "text/html": [
       "<div>\n",
       "<style scoped>\n",
       "    .dataframe tbody tr th:only-of-type {\n",
       "        vertical-align: middle;\n",
       "    }\n",
       "\n",
       "    .dataframe tbody tr th {\n",
       "        vertical-align: top;\n",
       "    }\n",
       "\n",
       "    .dataframe thead th {\n",
       "        text-align: right;\n",
       "    }\n",
       "</style>\n",
       "<table border=\"1\" class=\"dataframe\">\n",
       "  <thead>\n",
       "    <tr style=\"text-align: right;\">\n",
       "      <th></th>\n",
       "      <th>Loc_A</th>\n",
       "      <th>Loc_B</th>\n",
       "      <th>Loc_C</th>\n",
       "    </tr>\n",
       "  </thead>\n",
       "  <tbody>\n",
       "    <tr>\n",
       "      <th>0</th>\n",
       "      <td>50</td>\n",
       "      <td>80</td>\n",
       "      <td>62</td>\n",
       "    </tr>\n",
       "    <tr>\n",
       "      <th>1</th>\n",
       "      <td>45</td>\n",
       "      <td>52</td>\n",
       "      <td>48</td>\n",
       "    </tr>\n",
       "    <tr>\n",
       "      <th>2</th>\n",
       "      <td>57</td>\n",
       "      <td>74</td>\n",
       "      <td>68</td>\n",
       "    </tr>\n",
       "  </tbody>\n",
       "</table>\n",
       "</div>"
      ],
      "text/plain": [
       "   Loc_A  Loc_B  Loc_C\n",
       "0     50     80     62\n",
       "1     45     52     48\n",
       "2     57     74     68"
      ]
     },
     "execution_count": 76,
     "metadata": {},
     "output_type": "execute_result"
    }
   ],
   "source": [
    "#Problem 2:\n",
    "#First, we define the data:\n",
    "Loc_A = [50,45,57]\n",
    "Loc_B = [80,52,74]\n",
    "Loc_C = [62,48,68]\n",
    "df = pd.DataFrame()\n",
    "df['Loc_A'] = Loc_A\n",
    "df['Loc_B'] = Loc_B\n",
    "df['Loc_C'] = Loc_C\n",
    "df"
   ]
  },
  {
   "cell_type": "code",
   "execution_count": 77,
   "id": "f2cdfb99",
   "metadata": {},
   "outputs": [
    {
     "data": {
      "text/plain": [
       "(2, 6)"
      ]
     },
     "execution_count": 77,
     "metadata": {},
     "output_type": "execute_result"
    }
   ],
   "source": [
    "#Part A:\n",
    "#Defining basic values relevant for the calculation:\n",
    "alpha = 0.05\n",
    "dof1 = df.shape[1] - 1\n",
    "dof2 = df.shape[0]*df.shape[1] - df.shape[1]\n",
    "dof1,dof2"
   ]
  },
  {
   "cell_type": "code",
   "execution_count": 78,
   "id": "cb001344",
   "metadata": {},
   "outputs": [
    {
     "data": {
      "text/plain": [
       "5.143252849784718"
      ]
     },
     "execution_count": 78,
     "metadata": {},
     "output_type": "execute_result"
    }
   ],
   "source": [
    "#Now, must calculate SSTr, SSE, and SST:\n",
    "from scipy.stats import f\n",
    "F_crit = f.ppf(0.95,dof1,dof2)\n",
    "F_crit #This is compared against the F_0 value to reject or accept H_o"
   ]
  },
  {
   "cell_type": "code",
   "execution_count": 81,
   "id": "8592b68b",
   "metadata": {},
   "outputs": [
    {
     "data": {
      "text/plain": [
       "486.22222222222257"
      ]
     },
     "execution_count": 81,
     "metadata": {},
     "output_type": "execute_result"
    }
   ],
   "source": [
    "#Key calculations of all of the sums of squares\n",
    "df_mean = df.mean()\n",
    "df_std = df.std()\n",
    "overall_mean = df.stack().mean()\n",
    "n_i= df.count()\n",
    "SSTr = (n_i*(df_mean-overall_mean)**2).sum()\n",
    "SSTr"
   ]
  },
  {
   "cell_type": "code",
   "execution_count": 108,
   "id": "5347f8e6",
   "metadata": {},
   "outputs": [
    {
     "data": {
      "text/plain": [
       "718.0000000000001"
      ]
     },
     "execution_count": 108,
     "metadata": {},
     "output_type": "execute_result"
    }
   ],
   "source": [
    "SSE = ((n_i-1)*df_std**2).sum()\n",
    "SSE"
   ]
  },
  {
   "cell_type": "code",
   "execution_count": 83,
   "id": "f33b5ad2",
   "metadata": {},
   "outputs": [
    {
     "data": {
      "text/plain": [
       "1204.2222222222226"
      ]
     },
     "execution_count": 83,
     "metadata": {},
     "output_type": "execute_result"
    }
   ],
   "source": [
    "SST = SSTr + SSE\n",
    "SST"
   ]
  },
  {
   "cell_type": "code",
   "execution_count": 86,
   "id": "1d3c4cab",
   "metadata": {},
   "outputs": [
    {
     "data": {
      "text/plain": [
       "2.031569173630456"
      ]
     },
     "execution_count": 86,
     "metadata": {},
     "output_type": "execute_result"
    }
   ],
   "source": [
    "MSTr = SSTr/(dof1)\n",
    "MSE = SSE/(dof2)\n",
    "F_o = MSTr/MSE\n",
    "F_o"
   ]
  },
  {
   "cell_type": "code",
   "execution_count": 87,
   "id": "304472db",
   "metadata": {},
   "outputs": [
    {
     "data": {
      "text/plain": [
       "0.21195976093738766"
      ]
     },
     "execution_count": 87,
     "metadata": {},
     "output_type": "execute_result"
    }
   ],
   "source": [
    "p_val = 1 - f.cdf(F_o,dof1,dof2)\n",
    "p_val\n",
    "#Since the p-value is greater than 0.05,  we are unable to reject H_o and thus conclude that when alpha = 0.05 we are not\n",
    "#able to prove in a statistically significant way that the population means from the different locations are different"
   ]
  },
  {
   "cell_type": "code",
   "execution_count": 89,
   "id": "778359ae",
   "metadata": {},
   "outputs": [
    {
     "data": {
      "text/plain": [
       "(3, 6)"
      ]
     },
     "execution_count": 89,
     "metadata": {},
     "output_type": "execute_result"
    }
   ],
   "source": [
    "#Part B: Tukey Significant Difference Procedure\n",
    "#First, q_alpha is found from the textbook table:\n",
    "dof1 = df.shape[1]\n",
    "dof2 = df.shape[0]*df.shape[1] - df.shape[1]\n",
    "dof1, dof2 #These are used in the table"
   ]
  },
  {
   "cell_type": "code",
   "execution_count": 118,
   "id": "85145939",
   "metadata": {},
   "outputs": [
    {
     "data": {
      "text/plain": [
       "104.8888888888889"
      ]
     },
     "execution_count": 118,
     "metadata": {},
     "output_type": "execute_result"
    }
   ],
   "source": [
    "#Since we are now comparing if the collection periods differ, we need to create a new dataframe with the data in diff way\n",
    "df = pd.DataFrame()\n",
    "df['7 am'] = [50,80,62]\n",
    "df['Noon'] = [45, 52, 48]\n",
    "df['6 pm'] = [57, 74, 68]\n",
    "q_alp = 5.153\n",
    "df_mean = df.mean()\n",
    "df_std = df.std()\n",
    "SSE = ((df.count()-1)*df_std**2).sum()\n",
    "MSE = SSE/(3*3-3)\n",
    "MSE"
   ]
  },
  {
   "cell_type": "code",
   "execution_count": 119,
   "id": "6e0f4647",
   "metadata": {},
   "outputs": [
    {
     "data": {
      "text/plain": [
       "array([[ 0.        , 15.66666667,  2.33333333],\n",
       "       [15.66666667,  0.        , 18.        ],\n",
       "       [ 2.33333333, 18.        ,  0.        ]])"
      ]
     },
     "execution_count": 119,
     "metadata": {},
     "output_type": "execute_result"
    }
   ],
   "source": [
    "#Next, we do pairwise distances\n",
    "from sklearn.metrics import pairwise_distances \n",
    "distances = pairwise_distances(df_mean.values.reshape(-1,1))\n",
    "distances"
   ]
  },
  {
   "cell_type": "code",
   "execution_count": 122,
   "id": "ed2df6c6",
   "metadata": {},
   "outputs": [
    {
     "data": {
      "text/plain": [
       "30.469424927415474"
      ]
     },
     "execution_count": 122,
     "metadata": {},
     "output_type": "execute_result"
    }
   ],
   "source": [
    "#We can then calculate T, which uses MSE from the ANOVA in part A\n",
    "T = q_alp * (MSE/df.shape[0]) ** 0.5\n",
    "T"
   ]
  },
  {
   "cell_type": "code",
   "execution_count": 123,
   "id": "80513a51",
   "metadata": {},
   "outputs": [],
   "source": [
    "#Then, we loop through all the pairs and print out when a pairwise distance is significant (greater than T):\n",
    "for i in np.arange(df.shape[1]):\n",
    "    for j in np.arange(df.shape[1]):\n",
    "        if np.abs(df_mean[i] - df_mean[j]) > T:\n",
    "            print(f'The mean value of {i} is different from {j} and the difference is {np.abs(df_mean[i] - df_mean[j])}')"
   ]
  },
  {
   "cell_type": "code",
   "execution_count": 124,
   "id": "448bd711",
   "metadata": {},
   "outputs": [],
   "source": [
    "#Since no outputs are printed, the Tukey's multiple comparison procedure determines that we cannot determine\n",
    "#a statistically significant difference between the means of the samples at the different times"
   ]
  },
  {
   "cell_type": "code",
   "execution_count": 125,
   "id": "dc542664",
   "metadata": {},
   "outputs": [
    {
     "data": {
      "text/html": [
       "<div>\n",
       "<style scoped>\n",
       "    .dataframe tbody tr th:only-of-type {\n",
       "        vertical-align: middle;\n",
       "    }\n",
       "\n",
       "    .dataframe tbody tr th {\n",
       "        vertical-align: top;\n",
       "    }\n",
       "\n",
       "    .dataframe thead th {\n",
       "        text-align: right;\n",
       "    }\n",
       "</style>\n",
       "<table border=\"1\" class=\"dataframe\">\n",
       "  <thead>\n",
       "    <tr style=\"text-align: right;\">\n",
       "      <th></th>\n",
       "      <th>7 am</th>\n",
       "      <th>Noon</th>\n",
       "      <th>6 pm</th>\n",
       "    </tr>\n",
       "  </thead>\n",
       "  <tbody>\n",
       "    <tr>\n",
       "      <th>0</th>\n",
       "      <td>50</td>\n",
       "      <td>45</td>\n",
       "      <td>57</td>\n",
       "    </tr>\n",
       "    <tr>\n",
       "      <th>1</th>\n",
       "      <td>80</td>\n",
       "      <td>52</td>\n",
       "      <td>74</td>\n",
       "    </tr>\n",
       "    <tr>\n",
       "      <th>2</th>\n",
       "      <td>62</td>\n",
       "      <td>48</td>\n",
       "      <td>68</td>\n",
       "    </tr>\n",
       "  </tbody>\n",
       "</table>\n",
       "</div>"
      ],
      "text/plain": [
       "   7 am  Noon  6 pm\n",
       "0    50    45    57\n",
       "1    80    52    74\n",
       "2    62    48    68"
      ]
     },
     "execution_count": 125,
     "metadata": {},
     "output_type": "execute_result"
    }
   ],
   "source": [
    "df"
   ]
  },
  {
   "cell_type": "code",
   "execution_count": null,
   "id": "c20ddfe2",
   "metadata": {},
   "outputs": [],
   "source": []
  }
 ],
 "metadata": {
  "kernelspec": {
   "display_name": "Python 3 (ipykernel)",
   "language": "python",
   "name": "python3"
  },
  "language_info": {
   "codemirror_mode": {
    "name": "ipython",
    "version": 3
   },
   "file_extension": ".py",
   "mimetype": "text/x-python",
   "name": "python",
   "nbconvert_exporter": "python",
   "pygments_lexer": "ipython3",
   "version": "3.9.7"
  }
 },
 "nbformat": 4,
 "nbformat_minor": 5
}
