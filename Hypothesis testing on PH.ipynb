{
 "cells": [
  {
   "cell_type": "code",
   "execution_count": 1,
   "id": "c5815682",
   "metadata": {},
   "outputs": [],
   "source": [
    "%matplotlib inline\n",
    "import pandas as pd\n",
    "import numpy as np"
   ]
  },
  {
   "cell_type": "code",
   "execution_count": 5,
   "id": "bf42cc21",
   "metadata": {},
   "outputs": [
    {
     "data": {
      "text/plain": [
       "6.0"
      ]
     },
     "execution_count": 5,
     "metadata": {},
     "output_type": "execute_result"
    }
   ],
   "source": [
    "#Problem 1:\n",
    "ph = [6.0, 5.7, 5.8, 6.5, 7.0, 6.3, 5.6, 6.1, 5.0]\n",
    "\n",
    "#Part A:\n",
    "mean_ph = np.mean(ph)\n",
    "mean_ph"
   ]
  },
  {
   "cell_type": "code",
   "execution_count": 8,
   "id": "274f9714",
   "metadata": {},
   "outputs": [
    {
     "data": {
      "text/plain": [
       "0.3535533905932738"
      ]
     },
     "execution_count": 8,
     "metadata": {},
     "output_type": "execute_result"
    }
   ],
   "source": [
    "#Part B:\n",
    "#The unbiased estimator of the standard deviation is simply the sample standard deviation\n",
    "#It is unclear to me if np.std does sample or population, so I will compute the standard deviation by hand\n",
    "x = 0\n",
    "for i in np.arange(len(ph)):\n",
    "    x = abs(ph[i] - mean_ph)**2 \n",
    "x = x/(len(ph)-1)\n",
    "std_ph = np.sqrt(x)\n",
    "std_ph"
   ]
  },
  {
   "cell_type": "code",
   "execution_count": 11,
   "id": "26b4ea26",
   "metadata": {},
   "outputs": [
    {
     "data": {
      "text/plain": [
       "(5.5476, 6.4524)"
      ]
     },
     "execution_count": 11,
     "metadata": {},
     "output_type": "execute_result"
    }
   ],
   "source": [
    "#Part C: Just directly applying the confidence interval formula, must use t-value for t_.025_8 though (n-1 = 8)\n",
    "std_known = 0.6\n",
    "n = len(ph)\n",
    "t_val = 2.262 #From t-table\n",
    "CI_lower = mean_ph - t_val*std_known/np.sqrt(n)\n",
    "CI_upper = mean_ph + t_val*std_known/np.sqrt(n)\n",
    "CI_lower,CI_upper #These bounds together form the confidence interval\n",
    "\n",
    "#Note - the implicit assumption of this approach is that the sampled data points are independently sampled and identically\n",
    "#distributed (the distribution they all come from is the same), the t distribution depends on this assumption"
   ]
  },
  {
   "cell_type": "code",
   "execution_count": 14,
   "id": "f686d5a0",
   "metadata": {},
   "outputs": [
    {
     "data": {
      "text/plain": [
       "(5.733420743492672, 6.266579256507328)"
      ]
     },
     "execution_count": 14,
     "metadata": {},
     "output_type": "execute_result"
    }
   ],
   "source": [
    "#Part D:\n",
    "std_estimate = std_ph\n",
    "CI_lower_u = mean_ph - t_val*std_estimate/np.sqrt(n)\n",
    "CI_upper_u = mean_ph + t_val*std_estimate/np.sqrt(n)\n",
    "CI_lower_u,CI_upper_u\n",
    "\n",
    "#Note - aside from the previous assumptions of i.i.d. still being true, this method assumes that the sample standard \n",
    "#deviation is an accurate estimate of the actual standard deviation"
   ]
  },
  {
   "cell_type": "markdown",
   "id": "0f60034c",
   "metadata": {},
   "source": []
  },
  {
   "cell_type": "code",
   "execution_count": 16,
   "id": "bbba3b07",
   "metadata": {},
   "outputs": [],
   "source": [
    "#Problem 2:\n",
    "#First, the radon data must be typed out to input it\n",
    "data = [4.04, 4.60, 5.73, 5.39, 2.37, 5.39, 4.6, 5.05, 4.38, 5.05,\n",
    "       4.04,3.48,5.25,1.8,4.93,3.83,2.9,2.87,6.48,3.74,3.99,0.89,\n",
    "       3.72,3.51,4.47,1.72,3.26,6.01,3.4,3.96,2.82,3.41,\n",
    "       2.73,3.08,3.25,6.08,5.15,2.73,5.87,3.77,0.74,4.01,1.22]"
   ]
  },
  {
   "cell_type": "code",
   "execution_count": 17,
   "id": "a4ae55d3",
   "metadata": {},
   "outputs": [
    {
     "name": "stdout",
     "output_type": "stream",
     "text": [
      "43\n"
     ]
    }
   ],
   "source": [
    "#Part A:\n",
    "#First, we compute sample size\n",
    "n = len(data)\n",
    "print(n)"
   ]
  },
  {
   "cell_type": "code",
   "execution_count": 18,
   "id": "9a1c0494",
   "metadata": {},
   "outputs": [],
   "source": [
    "#Given that n > 30, we can apply central limit theorem. This tells us that the data can be regarded as approximately\n",
    "#normal. Thus, the normal distribution fits the data better than the t-distribution."
   ]
  },
  {
   "cell_type": "code",
   "execution_count": 19,
   "id": "de89e0f5",
   "metadata": {},
   "outputs": [
    {
     "data": {
      "text/plain": [
       "0.4063919624001606"
      ]
     },
     "execution_count": 19,
     "metadata": {},
     "output_type": "execute_result"
    }
   ],
   "source": [
    "#Part B:\n",
    "#Computing the standard deviation manually through the same process as in problem 1\n",
    "x = 0\n",
    "data_mean = np.mean(data)\n",
    "for i in np.arange(len(data)):\n",
    "    x = abs(data[i] - data_mean)**2 \n",
    "x = x/(n-1)\n",
    "std_data = np.sqrt(x)\n",
    "std_data"
   ]
  },
  {
   "cell_type": "code",
   "execution_count": 22,
   "id": "f508eb30",
   "metadata": {},
   "outputs": [
    {
     "data": {
      "text/plain": [
       "2.3603222901529124"
      ]
     },
     "execution_count": 22,
     "metadata": {},
     "output_type": "execute_result"
    }
   ],
   "source": [
    "#Part C:\n",
    "#This is a hypothesis test, so the null and alternative hypotheses are written out and then tested.\n",
    "#H_o: mu = 4\n",
    "#H_1: mu < 4\n",
    "alpha = 1-0.9\n",
    "mu_o = 4\n",
    "\n",
    "#First, calculate the test statistic, this is a z-statistic\n",
    "z_o = (data_mean - mu_o)/(std_data/np.sqrt(n))\n",
    "\n",
    "#Next, we calculate the critical value to compare against. This value is z_alpha = z_.1\n",
    "z_crit = 1.282\n",
    "\n",
    "abs(z_o)"
   ]
  },
  {
   "cell_type": "code",
   "execution_count": 24,
   "id": "9de075e3",
   "metadata": {},
   "outputs": [],
   "source": [
    "#Given that the absolute value is the z-value is greater than the critical value, the evidence is sufficient to \n",
    "#reject H_o and conclude that at a 90% CL, the mean value is less than the threshold value of 4"
   ]
  },
  {
   "cell_type": "code",
   "execution_count": 26,
   "id": "8b30dd8e",
   "metadata": {},
   "outputs": [
    {
     "data": {
      "text/plain": [
       "34.631819421019436"
      ]
     },
     "execution_count": 26,
     "metadata": {},
     "output_type": "execute_result"
    }
   ],
   "source": [
    "#Part D:\n",
    "#To find the confidence level where one can state that the true mean is less than 6, we first calculate z_o and then \n",
    "#look on the normal table to find the value that most closely resembles that z_o value. The corresponding alpha gives \n",
    "#the (1-alpha)% confidence level.\n",
    "mu_o = 6\n",
    "z_o_new = (data_mean - mu_o)/(std_data/np.sqrt(n))\n",
    "abs(z_o_new)"
   ]
  },
  {
   "cell_type": "code",
   "execution_count": 27,
   "id": "adf196a6",
   "metadata": {},
   "outputs": [],
   "source": [
    "#Given that this value is so big, the corresponding alpha to this value on the normal table will be very very very small\n",
    "#This means that we can say that the confidence level can be approximately 0% and this will still lead to the conclusion\n",
    "#that the true mean is less than 6"
   ]
  },
  {
   "cell_type": "code",
   "execution_count": 28,
   "id": "26061217",
   "metadata": {},
   "outputs": [
    {
     "data": {
      "text/plain": [
       "(3.7742700144723584, 3.933171845992758)"
      ]
     },
     "execution_count": 28,
     "metadata": {},
     "output_type": "execute_result"
    }
   ],
   "source": [
    "#Part E: \n",
    "#Apply the confidence interval formula \n",
    "alpha = 1-0.9\n",
    "z = z_crit\n",
    "CI_lower2 = data_mean - z*std_data/np.sqrt(n)\n",
    "CI_upper2 = data_mean + z*std_data/np.sqrt(n)\n",
    "CI_lower2,CI_upper2 #This gives us the range "
   ]
  },
  {
   "cell_type": "code",
   "execution_count": null,
   "id": "854d8a89",
   "metadata": {},
   "outputs": [],
   "source": []
  }
 ],
 "metadata": {
  "kernelspec": {
   "display_name": "Python 3 (ipykernel)",
   "language": "python",
   "name": "python3"
  },
  "language_info": {
   "codemirror_mode": {
    "name": "ipython",
    "version": 3
   },
   "file_extension": ".py",
   "mimetype": "text/x-python",
   "name": "python",
   "nbconvert_exporter": "python",
   "pygments_lexer": "ipython3",
   "version": "3.9.7"
  }
 },
 "nbformat": 4,
 "nbformat_minor": 5
}
