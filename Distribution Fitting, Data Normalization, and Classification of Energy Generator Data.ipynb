{
 "cells": [
  {
   "cell_type": "code",
   "execution_count": 45,
   "id": "315ffaf4",
   "metadata": {},
   "outputs": [],
   "source": [
    "%matplotlib inline\n",
    "import matplotlib.pyplot as plt\n",
    "import matplotlib as mpl\n",
    "import pandas as pd\n",
    "import numpy as np"
   ]
  },
  {
   "cell_type": "code",
   "execution_count": 46,
   "id": "a0055d09",
   "metadata": {},
   "outputs": [
    {
     "data": {
      "text/html": [
       "<div>\n",
       "<style scoped>\n",
       "    .dataframe tbody tr th:only-of-type {\n",
       "        vertical-align: middle;\n",
       "    }\n",
       "\n",
       "    .dataframe tbody tr th {\n",
       "        vertical-align: top;\n",
       "    }\n",
       "\n",
       "    .dataframe thead th {\n",
       "        text-align: right;\n",
       "    }\n",
       "</style>\n",
       "<table border=\"1\" class=\"dataframe\">\n",
       "  <thead>\n",
       "    <tr style=\"text-align: right;\">\n",
       "      <th></th>\n",
       "      <th>tau1</th>\n",
       "      <th>tau2</th>\n",
       "      <th>tau3</th>\n",
       "      <th>tau4</th>\n",
       "      <th>p1</th>\n",
       "      <th>p2</th>\n",
       "      <th>p3</th>\n",
       "      <th>p4</th>\n",
       "      <th>g1</th>\n",
       "      <th>g2</th>\n",
       "      <th>g3</th>\n",
       "      <th>g4</th>\n",
       "      <th>stab</th>\n",
       "      <th>stabf</th>\n",
       "    </tr>\n",
       "  </thead>\n",
       "  <tbody>\n",
       "    <tr>\n",
       "      <th>0</th>\n",
       "      <td>2.959060</td>\n",
       "      <td>3.079885</td>\n",
       "      <td>8.381025</td>\n",
       "      <td>9.780754</td>\n",
       "      <td>3.763085</td>\n",
       "      <td>-0.782604</td>\n",
       "      <td>-1.257395</td>\n",
       "      <td>-1.723086</td>\n",
       "      <td>0.650456</td>\n",
       "      <td>0.859578</td>\n",
       "      <td>0.887445</td>\n",
       "      <td>0.958034</td>\n",
       "      <td>0.055347</td>\n",
       "      <td>unstable</td>\n",
       "    </tr>\n",
       "    <tr>\n",
       "      <th>1</th>\n",
       "      <td>9.304097</td>\n",
       "      <td>4.902524</td>\n",
       "      <td>3.047541</td>\n",
       "      <td>1.369357</td>\n",
       "      <td>5.067812</td>\n",
       "      <td>-1.940058</td>\n",
       "      <td>-1.872742</td>\n",
       "      <td>-1.255012</td>\n",
       "      <td>0.413441</td>\n",
       "      <td>0.862414</td>\n",
       "      <td>0.562139</td>\n",
       "      <td>0.781760</td>\n",
       "      <td>-0.005957</td>\n",
       "      <td>stable</td>\n",
       "    </tr>\n",
       "    <tr>\n",
       "      <th>2</th>\n",
       "      <td>8.971707</td>\n",
       "      <td>8.848428</td>\n",
       "      <td>3.046479</td>\n",
       "      <td>1.214518</td>\n",
       "      <td>3.405158</td>\n",
       "      <td>-1.207456</td>\n",
       "      <td>-1.277210</td>\n",
       "      <td>-0.920492</td>\n",
       "      <td>0.163041</td>\n",
       "      <td>0.766689</td>\n",
       "      <td>0.839444</td>\n",
       "      <td>0.109853</td>\n",
       "      <td>0.003471</td>\n",
       "      <td>unstable</td>\n",
       "    </tr>\n",
       "    <tr>\n",
       "      <th>3</th>\n",
       "      <td>0.716415</td>\n",
       "      <td>7.669600</td>\n",
       "      <td>4.486641</td>\n",
       "      <td>2.340563</td>\n",
       "      <td>3.963791</td>\n",
       "      <td>-1.027473</td>\n",
       "      <td>-1.938944</td>\n",
       "      <td>-0.997374</td>\n",
       "      <td>0.446209</td>\n",
       "      <td>0.976744</td>\n",
       "      <td>0.929381</td>\n",
       "      <td>0.362718</td>\n",
       "      <td>0.028871</td>\n",
       "      <td>unstable</td>\n",
       "    </tr>\n",
       "    <tr>\n",
       "      <th>4</th>\n",
       "      <td>3.134112</td>\n",
       "      <td>7.608772</td>\n",
       "      <td>4.943759</td>\n",
       "      <td>9.857573</td>\n",
       "      <td>3.525811</td>\n",
       "      <td>-1.125531</td>\n",
       "      <td>-1.845975</td>\n",
       "      <td>-0.554305</td>\n",
       "      <td>0.797110</td>\n",
       "      <td>0.455450</td>\n",
       "      <td>0.656947</td>\n",
       "      <td>0.820923</td>\n",
       "      <td>0.049860</td>\n",
       "      <td>unstable</td>\n",
       "    </tr>\n",
       "  </tbody>\n",
       "</table>\n",
       "</div>"
      ],
      "text/plain": [
       "       tau1      tau2      tau3      tau4        p1        p2        p3  \\\n",
       "0  2.959060  3.079885  8.381025  9.780754  3.763085 -0.782604 -1.257395   \n",
       "1  9.304097  4.902524  3.047541  1.369357  5.067812 -1.940058 -1.872742   \n",
       "2  8.971707  8.848428  3.046479  1.214518  3.405158 -1.207456 -1.277210   \n",
       "3  0.716415  7.669600  4.486641  2.340563  3.963791 -1.027473 -1.938944   \n",
       "4  3.134112  7.608772  4.943759  9.857573  3.525811 -1.125531 -1.845975   \n",
       "\n",
       "         p4        g1        g2        g3        g4      stab     stabf  \n",
       "0 -1.723086  0.650456  0.859578  0.887445  0.958034  0.055347  unstable  \n",
       "1 -1.255012  0.413441  0.862414  0.562139  0.781760 -0.005957    stable  \n",
       "2 -0.920492  0.163041  0.766689  0.839444  0.109853  0.003471  unstable  \n",
       "3 -0.997374  0.446209  0.976744  0.929381  0.362718  0.028871  unstable  \n",
       "4 -0.554305  0.797110  0.455450  0.656947  0.820923  0.049860  unstable  "
      ]
     },
     "execution_count": 46,
     "metadata": {},
     "output_type": "execute_result"
    }
   ],
   "source": [
    "#Loading in data:\n",
    "data = pd.read_csv('Data_for_UCI_named.csv')\n",
    "data.head()\n",
    "\n",
    "#Attribute Information:\n",
    "\n",
    "#1. tau[x]: reaction time of participant (real from the range [0.5,10]s). Tau1 - the value for electricity producer.\n",
    "#2. p[x]: nominal power consumed(negative)/produced(positive)(real). \n",
    "#For consumers from the range [-0.5,-2]s^-2; p1 = abs(p2 + p3 + p4)\n",
    "#3. g[x]: coefficient (gamma) proportional to price elasticity (real from the range [0.05,1]s^-1). \n",
    "#g1 - the value for electricity producer.\n",
    "#Target 1: stab: the maximal real part of the characteristic equation root (if positive - the system is linearly unstable)(real)\n",
    "#Target 2: stabf: the stability label of the system (categorical: stable/unstable)\n",
    "\n",
    "  "
   ]
  },
  {
   "cell_type": "code",
   "execution_count": 47,
   "id": "ee4cc1b3",
   "metadata": {},
   "outputs": [
    {
     "name": "stderr",
     "output_type": "stream",
     "text": [
      "C:\\Users\\jacob\\AppData\\Local\\Temp/ipykernel_18268/2858522980.py:4: UserWarning: To output multiple subplots, the figure containing the passed axes is being cleared\n",
      "  data.hist(ax = ax)\n"
     ]
    },
    {
     "data": {
      "text/plain": [
       "array([[<AxesSubplot:title={'center':'tau1'}>,\n",
       "        <AxesSubplot:title={'center':'tau2'}>,\n",
       "        <AxesSubplot:title={'center':'tau3'}>,\n",
       "        <AxesSubplot:title={'center':'tau4'}>],\n",
       "       [<AxesSubplot:title={'center':'p1'}>,\n",
       "        <AxesSubplot:title={'center':'p2'}>,\n",
       "        <AxesSubplot:title={'center':'p3'}>,\n",
       "        <AxesSubplot:title={'center':'p4'}>],\n",
       "       [<AxesSubplot:title={'center':'g1'}>,\n",
       "        <AxesSubplot:title={'center':'g2'}>,\n",
       "        <AxesSubplot:title={'center':'g3'}>,\n",
       "        <AxesSubplot:title={'center':'g4'}>],\n",
       "       [<AxesSubplot:title={'center':'stab'}>, <AxesSubplot:>,\n",
       "        <AxesSubplot:>, <AxesSubplot:>]], dtype=object)"
      ]
     },
     "execution_count": 47,
     "metadata": {},
     "output_type": "execute_result"
    },
    {
     "data": {
      "image/png": "[encoded data removed]",
      "text/plain": [
       "<Figure size 1080x1440 with 16 Axes>"
      ]
     },
     "metadata": {
      "needs_background": "light"
     },
     "output_type": "display_data"
    }
   ],
   "source": [
    "#Evaluating the attributes and explaining their distributions\n",
    "fig = plt.figure(figsize = (15,20))\n",
    "ax = fig.gca()\n",
    "data.hist(ax = ax)"
   ]
  },
  {
   "cell_type": "code",
   "execution_count": 48,
   "id": "7503302f",
   "metadata": {},
   "outputs": [],
   "source": [
    "#Based upon the graphs above. We can see that the graphs corresponding to tau1 - tau4, p2 - p4, and g1 - g4 are identical.\n",
    "#The distribution that these graphs show is uniformly distributed with a value of 1000. This tells us that the values for\n",
    "#electricity producers, the nominal power consumption (all except p1), and the gamma coefficient for electricity producers\n",
    "#are uniformly distributed. This suggests a potential relation or common influences between these factors since they\n",
    "#have the same histogram. This might also imply that a particular reading on tau might influence the reading of p and g\n",
    "#(and vice versa). This could also mean that the selected dataset is chosen such to have this uniform distribution of \n",
    "#the majority of the variables.\n",
    "\n",
    "#Looking at the non-uniform data, we see that p1 and stab's histograms can be described as approximately normal, with\n",
    "#clear evidence of a central tendency. However, p1 is much concentrated around the center, whereas stab has a bit more\n",
    "#variation. p1's graph being distinct from the other p(x) graphs makes sense because p1's formula is based upon the absolute\n",
    "#sum of the other p(x)'s. stab's variation makes sense when considering it is part of a characteristic equation, which\n",
    "#will naturally vary with different values. It should also be noted that stab is always positive, which indicates that\n",
    "#all the measurements we have are linearly unstable systems.\n",
    "\n",
    "#Lastly, stabf isn't shown on a histogram because it is categorical with only two possible values. This also indicates\n",
    "#that predicting stabf is a classification problem, which will impact the chosen models."
   ]
  },
  {
   "cell_type": "code",
   "execution_count": 49,
   "id": "f673b88f",
   "metadata": {},
   "outputs": [],
   "source": [
    "#Given that stabf is a classification problem, I will construct a classification model to predict stabf\n",
    "#based upon tau, b, and g values. \n",
    "#First, we must drop stab from the dataframe\n",
    "\n",
    "df = data.drop(['stab'],axis=1)\n",
    "\n",
    "#Now, we split the data into training and testing data with a split of 0.2\n",
    "from sklearn.model_selection import train_test_split\n",
    "dftrain, dftest = train_test_split(df, test_size = 0.2, random_state = 42)\n",
    "\n",
    "#Now, reset the indices:\n",
    "dftrain = dftrain.reset_index(drop=True)\n",
    "dftest = dftest.reset_index(drop=True)\n",
    "\n",
    "#Now, we create x and y data for the training and testing\n",
    "ytrain = dftrain.pop('stabf')\n",
    "xtrain = dftrain\n",
    "ytest = dftest.pop('stabf')\n",
    "xtest = dftest\n",
    "\n",
    "\n",
    "#Additionally, scaling the x data will assist with our predictions:\n",
    "from sklearn.preprocessing import StandardScaler\n",
    "scaler = StandardScaler()\n",
    "xtrain = scaler.fit_transform(xtrain)\n",
    "xtest = scaler.fit_transform(xtest)"
   ]
  },
  {
   "cell_type": "code",
   "execution_count": 50,
   "id": "ed1e0ce7",
   "metadata": {},
   "outputs": [],
   "source": [
    "#For my model, I will be using a support vector machine in sklearn called Linear SVC, which stands for\n",
    "#Linear Support Vector Classification\n",
    "from sklearn.svm import LinearSVC\n",
    "lin_svc = LinearSVC()\n",
    "lin_svc.fit(xtrain, ytrain)\n",
    "\n",
    "#We only care about the prediction on the test data, so we will use this for confusion matrix and analysis\n",
    "ytestpred = lin_svc.predict(xtest)"
   ]
  },
  {
   "cell_type": "code",
   "execution_count": 51,
   "id": "ae3b7dd8",
   "metadata": {},
   "outputs": [
    {
     "data": {
      "image/png": "[encoded data removed]",
      "text/plain": [
       "<Figure size 432x288 with 2 Axes>"
      ]
     },
     "metadata": {
      "needs_background": "light"
     },
     "output_type": "display_data"
    }
   ],
   "source": [
    "#Creating confusion matrix for the lin_svc classifier:\n",
    "from sklearn.metrics import confusion_matrix\n",
    "cm = confusion_matrix(ytest,ytestpred)\n",
    "\n",
    "#Plotting the confusion matrix nicely\n",
    "from sklearn.metrics import ConfusionMatrixDisplay\n",
    "disp = ConfusionMatrixDisplay(confusion_matrix=cm)\n",
    "disp.plot()\n",
    "plt.show()"
   ]
  },
  {
   "cell_type": "code",
   "execution_count": 52,
   "id": "a883a99d",
   "metadata": {},
   "outputs": [
    {
     "data": {
      "text/plain": [
       "(0.7378497790868925, 0.7229437229437229)"
      ]
     },
     "execution_count": 52,
     "metadata": {},
     "output_type": "execute_result"
    }
   ],
   "source": [
    "#Analyzing the above confusion matrix, we can see that we have 1129 true positives, 501 true negatives, 192 false positives\n",
    "#and 178 false negatives. This tells us that the model is performing fairly well, given that it is overwhelmingly\n",
    "#producing accurate results. To evaluate this model further, the precision and recalls can also be calculated. Shown below,\n",
    "#the precision indicates\n",
    "#FILL IN HERE\n",
    "from sklearn.metrics import precision_score, recall_score\n",
    "\n",
    "#\n",
    "precisions = [0, 0, 0, 0, 0]\n",
    "recalls = [0, 0, 0, 0, 0]\n",
    "\n",
    "recalls[0] = precision_score(ytest,ytestpred, pos_label='stable')\n",
    "precisions[0] = recall_score(ytest,ytestpred, pos_label = 'stable')\n",
    "\n",
    "precision_score(ytest,ytestpred, pos_label='stable'), recall_score(ytest,ytestpred,pos_label = 'stable')"
   ]
  },
  {
   "cell_type": "code",
   "execution_count": 53,
   "id": "c2da6ea7",
   "metadata": {},
   "outputs": [],
   "source": [
    "#Evaluating the above results, we can see that the precision score and recall similar are quite similar, which tells us that\n",
    "#the accuracy of the positive scores and the ratio of positive instances detected by the classifier are both around 70%. \n",
    "#This is a fairly strong classification, but can be compared to other metrics to evaluate further. "
   ]
  },
  {
   "cell_type": "code",
   "execution_count": 54,
   "id": "b58eef9c",
   "metadata": {},
   "outputs": [
    {
     "data": {
      "text/html": [
       "<div>\n",
       "<style scoped>\n",
       "    .dataframe tbody tr th:only-of-type {\n",
       "        vertical-align: middle;\n",
       "    }\n",
       "\n",
       "    .dataframe tbody tr th {\n",
       "        vertical-align: top;\n",
       "    }\n",
       "\n",
       "    .dataframe thead th {\n",
       "        text-align: right;\n",
       "    }\n",
       "</style>\n",
       "<table border=\"1\" class=\"dataframe\">\n",
       "  <thead>\n",
       "    <tr style=\"text-align: right;\">\n",
       "      <th></th>\n",
       "      <th>Precision</th>\n",
       "      <th>Recalls</th>\n",
       "    </tr>\n",
       "  </thead>\n",
       "  <tbody>\n",
       "    <tr>\n",
       "      <th>LinearSVC</th>\n",
       "      <td>0.722944</td>\n",
       "      <td>0.737850</td>\n",
       "    </tr>\n",
       "    <tr>\n",
       "      <th>KNeighbors</th>\n",
       "      <td>0.832781</td>\n",
       "      <td>0.725830</td>\n",
       "    </tr>\n",
       "    <tr>\n",
       "      <th>DecisionTreeClassifier</th>\n",
       "      <td>0.766434</td>\n",
       "      <td>0.790765</td>\n",
       "    </tr>\n",
       "    <tr>\n",
       "      <th>Random Forest</th>\n",
       "      <td>0.871533</td>\n",
       "      <td>0.861472</td>\n",
       "    </tr>\n",
       "    <tr>\n",
       "      <th>GaussianNB</th>\n",
       "      <td>0.798347</td>\n",
       "      <td>0.696970</td>\n",
       "    </tr>\n",
       "  </tbody>\n",
       "</table>\n",
       "</div>"
      ],
      "text/plain": [
       "                        Precision   Recalls\n",
       "LinearSVC                0.722944  0.737850\n",
       "KNeighbors               0.832781  0.725830\n",
       "DecisionTreeClassifier   0.766434  0.790765\n",
       "Random Forest            0.871533  0.861472\n",
       "GaussianNB               0.798347  0.696970"
      ]
     },
     "execution_count": 54,
     "metadata": {},
     "output_type": "execute_result"
    }
   ],
   "source": [
    "#In the subsequent analysis, four different other sklearn classifiers are trained and utilized on the test data, and \n",
    "#precision and recall scores are calculated and reported. \n",
    "#These other classifiers utilized are NearestNeighbors, Decision Tree, Random Forest, and Naive Bayes\n",
    "\n",
    "from sklearn.neighbors import KNeighborsClassifier\n",
    "from sklearn.tree import DecisionTreeClassifier\n",
    "from sklearn.ensemble import RandomForestClassifier\n",
    "from sklearn.naive_bayes import GaussianNB\n",
    "\n",
    "knn = KNeighborsClassifier()\n",
    "dtc = DecisionTreeClassifier()\n",
    "rfc = RandomForestClassifier()\n",
    "gnb = GaussianNB()\n",
    "\n",
    "#Training each of the models\n",
    "knn.fit(xtrain, ytrain)\n",
    "dtc.fit(xtrain, ytrain)\n",
    "rfc.fit(xtrain, ytrain)\n",
    "gnb.fit(xtrain, ytrain)\n",
    "\n",
    "#Testing the data for each of the models\n",
    "knn_pred = knn.predict(xtest)\n",
    "dtc_pred = dtc.predict(xtest)\n",
    "rfc_pred = rfc.predict(xtest)\n",
    "gnb_pred = gnb.predict(xtest)\n",
    "\n",
    "#Precision score and recall score calculation \n",
    "precisions[1] = precision_score(ytest,knn_pred, pos_label='stable')\n",
    "precisions[2] = precision_score(ytest,dtc_pred, pos_label='stable')\n",
    "precisions[3] = precision_score(ytest,rfc_pred, pos_label='stable')\n",
    "precisions[4] = precision_score(ytest,gnb_pred, pos_label='stable')\n",
    "\n",
    "recalls[1] = recall_score(ytest,knn_pred,pos_label = 'stable')\n",
    "recalls[2] = recall_score(ytest,dtc_pred,pos_label = 'stable')\n",
    "recalls[3] = recall_score(ytest,rfc_pred,pos_label = 'stable')\n",
    "recalls[4] = recall_score(ytest,gnb_pred,pos_label = 'stable')\n",
    "\n",
    "prec_rec_df = pd.DataFrame()\n",
    "prec_rec_df.index = ['LinearSVC', 'KNeighbors', 'DecisionTreeClassifier', 'Random Forest', 'GaussianNB']\n",
    "prec_rec_df['Precision'] = precisions\n",
    "prec_rec_df['Recall'] = recalls\n",
    "\n",
    "prec_rec_df"
   ]
  },
  {
   "cell_type": "code",
   "execution_count": null,
   "id": "21f27e57",
   "metadata": {},
   "outputs": [],
   "source": [
    "#Based on the reported precisions and recalls, it is seen that Random Forest has the highest precision and recall, thus\n",
    "#this method would be recommended out of the 5 chosen methods for future analysis, since it generalizes the best."
   ]
  }
 ],
 "metadata": {
  "kernelspec": {
   "display_name": "Python 3 (ipykernel)",
   "language": "python",
   "name": "python3"
  },
  "language_info": {
   "codemirror_mode": {
    "name": "ipython",
    "version": 3
   },
   "file_extension": ".py",
   "mimetype": "text/x-python",
   "name": "python",
   "nbconvert_exporter": "python",
   "pygments_lexer": "ipython3",
   "version": "3.9.7"
  }
 },
 "nbformat": 4,
 "nbformat_minor": 5
}
