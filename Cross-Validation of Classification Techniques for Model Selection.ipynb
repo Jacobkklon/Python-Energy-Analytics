{
 "cells": [
  {
   "cell_type": "code",
   "execution_count": 71,
   "id": "db4d9ce3",
   "metadata": {},
   "outputs": [],
   "source": [
    "%matplotlib inline\n",
    "import matplotlib.pyplot as plt\n",
    "import matplotlib as mpl\n",
    "import pandas as pd\n",
    "import numpy as np"
   ]
  },
  {
   "cell_type": "code",
   "execution_count": 72,
   "id": "661f0821",
   "metadata": {},
   "outputs": [
    {
     "data": {
      "text/html": [
       "<div>\n",
       "<style scoped>\n",
       "    .dataframe tbody tr th:only-of-type {\n",
       "        vertical-align: middle;\n",
       "    }\n",
       "\n",
       "    .dataframe tbody tr th {\n",
       "        vertical-align: top;\n",
       "    }\n",
       "\n",
       "    .dataframe thead th {\n",
       "        text-align: right;\n",
       "    }\n",
       "</style>\n",
       "<table border=\"1\" class=\"dataframe\">\n",
       "  <thead>\n",
       "    <tr style=\"text-align: right;\">\n",
       "      <th></th>\n",
       "      <th>x1</th>\n",
       "      <th>x2</th>\n",
       "      <th>y</th>\n",
       "    </tr>\n",
       "  </thead>\n",
       "  <tbody>\n",
       "    <tr>\n",
       "      <th>0</th>\n",
       "      <td>-0.111667</td>\n",
       "      <td>0.520224</td>\n",
       "      <td>1</td>\n",
       "    </tr>\n",
       "    <tr>\n",
       "      <th>1</th>\n",
       "      <td>1.142650</td>\n",
       "      <td>-0.342577</td>\n",
       "      <td>1</td>\n",
       "    </tr>\n",
       "    <tr>\n",
       "      <th>2</th>\n",
       "      <td>0.795558</td>\n",
       "      <td>-0.011442</td>\n",
       "      <td>1</td>\n",
       "    </tr>\n",
       "    <tr>\n",
       "      <th>3</th>\n",
       "      <td>0.111827</td>\n",
       "      <td>-0.551932</td>\n",
       "      <td>1</td>\n",
       "    </tr>\n",
       "    <tr>\n",
       "      <th>4</th>\n",
       "      <td>-0.816466</td>\n",
       "      <td>0.543996</td>\n",
       "      <td>0</td>\n",
       "    </tr>\n",
       "  </tbody>\n",
       "</table>\n",
       "</div>"
      ],
      "text/plain": [
       "         x1        x2  y\n",
       "0 -0.111667  0.520224  1\n",
       "1  1.142650 -0.342577  1\n",
       "2  0.795558 -0.011442  1\n",
       "3  0.111827 -0.551932  1\n",
       "4 -0.816466  0.543996  0"
      ]
     },
     "execution_count": 72,
     "metadata": {},
     "output_type": "execute_result"
    }
   ],
   "source": [
    "#Loading in data:\n",
    "data = pd.read_excel('Data_Class.xlsx')\n",
    "preserved_data = data.copy() #Preserving the integrity of the original dataframe in case it is needed\n",
    "data.head()\n",
    "\n",
    "#NOTE - x1 and x2 are already scaled!\n",
    "#x1 = pressure drop, x2 = head, y = type of pump (0 or 1)"
   ]
  },
  {
   "cell_type": "code",
   "execution_count": 73,
   "id": "00d3cfc9",
   "metadata": {},
   "outputs": [],
   "source": [
    "#Split the data into train and testing sets with a ratio of 0.2\n",
    "from sklearn.model_selection import train_test_split\n",
    "train, test = train_test_split(data, test_size = 0.2, random_state = 42)\n",
    "\n",
    "#Reset the index of training and testing data\n",
    "train = train.reset_index(drop=True)\n",
    "test = test.reset_index(drop=True)\n",
    "\n",
    "#Separate the training and testing data into x and y data\n",
    "ytrain = train.pop('y')\n",
    "xtrain = train\n",
    "ytest = test.pop('y')\n",
    "xtest = test"
   ]
  },
  {
   "cell_type": "code",
   "execution_count": 74,
   "id": "fc4a4e6e",
   "metadata": {},
   "outputs": [],
   "source": [
    "#We construct and loop through the three classifiers, outputting all of the relevant statistics\n",
    "from sklearn.ensemble import RandomForestClassifier\n",
    "from sklearn.svm import SVC\n",
    "from sklearn.linear_model import LogisticRegression\n",
    "rfc = RandomForestClassifier()\n",
    "svc_cl = SVC()\n",
    "lr = LogisticRegression()\n",
    "\n",
    "results_df = pd.DataFrame()\n",
    "results_df.index = ['Recall','Precision']\n",
    "\n",
    "from sklearn.metrics import precision_score, recall_score\n",
    "\n",
    "for i, reg in enumerate([rfc, svc_cl, lr]):\n",
    "    \n",
    "    #Train each classifier\n",
    "    reg.fit(xtrain, ytrain)\n",
    "    \n",
    "    #Create prediction for each classifier\n",
    "    ytestpred = reg.predict(xtest)\n",
    "    \n",
    "    #Evaluate the recall score\n",
    "    recall = recall_score(ytest,ytestpred) #1 is defined as the positive label by default\n",
    "    \n",
    "    #Evaluate the precision score\n",
    "    precision = precision_score(ytest,ytestpred) #1 is defined as the positive label by default\n",
    "\n",
    "    \n",
    "    if i == 0:\n",
    "        results_df['Random Forest Classifier'] = [recall, precision]\n",
    "    if i == 1:\n",
    "        results_df['SVC'] = [recall, precision]\n",
    "    if i == 2:\n",
    "        results_df['Logistic Regression'] = [recall, precision]\n",
    "    "
   ]
  },
  {
   "cell_type": "code",
   "execution_count": 75,
   "id": "e6a3223f",
   "metadata": {},
   "outputs": [
    {
     "data": {
      "text/html": [
       "<div>\n",
       "<style scoped>\n",
       "    .dataframe tbody tr th:only-of-type {\n",
       "        vertical-align: middle;\n",
       "    }\n",
       "\n",
       "    .dataframe tbody tr th {\n",
       "        vertical-align: top;\n",
       "    }\n",
       "\n",
       "    .dataframe thead th {\n",
       "        text-align: right;\n",
       "    }\n",
       "</style>\n",
       "<table border=\"1\" class=\"dataframe\">\n",
       "  <thead>\n",
       "    <tr style=\"text-align: right;\">\n",
       "      <th></th>\n",
       "      <th>Random Forest Classifier</th>\n",
       "      <th>SVC</th>\n",
       "      <th>Logistic Regression</th>\n",
       "    </tr>\n",
       "  </thead>\n",
       "  <tbody>\n",
       "    <tr>\n",
       "      <th>Recall</th>\n",
       "      <td>0.960000</td>\n",
       "      <td>0.98</td>\n",
       "      <td>0.86</td>\n",
       "    </tr>\n",
       "    <tr>\n",
       "      <th>Precision</th>\n",
       "      <td>0.969697</td>\n",
       "      <td>0.98</td>\n",
       "      <td>0.86</td>\n",
       "    </tr>\n",
       "  </tbody>\n",
       "</table>\n",
       "</div>"
      ],
      "text/plain": [
       "           Random Forest Classifier   SVC  Logistic Regression\n",
       "Recall                     0.960000  0.98                 0.86\n",
       "Precision                  0.969697  0.98                 0.86"
      ]
     },
     "execution_count": 75,
     "metadata": {},
     "output_type": "execute_result"
    }
   ],
   "source": [
    "results_df"
   ]
  },
  {
   "cell_type": "code",
   "execution_count": 76,
   "id": "e2c95d2c",
   "metadata": {},
   "outputs": [],
   "source": [
    "#Comparing the test data precision and recall scores above, we can see that SVC is generalizing the best, with the random\n",
    "#forest classifier being slightly worse and the logistic regression performing considerably worse. However, all classifiers\n",
    "#are performing very well in general on the data, with high precisions and recalls."
   ]
  },
  {
   "cell_type": "code",
   "execution_count": 77,
   "id": "67fb9477",
   "metadata": {},
   "outputs": [
    {
     "data": {
      "text/html": [
       "<div>\n",
       "<style scoped>\n",
       "    .dataframe tbody tr th:only-of-type {\n",
       "        vertical-align: middle;\n",
       "    }\n",
       "\n",
       "    .dataframe tbody tr th {\n",
       "        vertical-align: top;\n",
       "    }\n",
       "\n",
       "    .dataframe thead th {\n",
       "        text-align: right;\n",
       "    }\n",
       "</style>\n",
       "<table border=\"1\" class=\"dataframe\">\n",
       "  <thead>\n",
       "    <tr style=\"text-align: right;\">\n",
       "      <th></th>\n",
       "      <th>Random Forest Classifier</th>\n",
       "      <th>SVC</th>\n",
       "      <th>Logistic Regression</th>\n",
       "      <th>Voting Classifier</th>\n",
       "    </tr>\n",
       "  </thead>\n",
       "  <tbody>\n",
       "    <tr>\n",
       "      <th>Recall</th>\n",
       "      <td>0.960000</td>\n",
       "      <td>0.98</td>\n",
       "      <td>0.86</td>\n",
       "      <td>0.98</td>\n",
       "    </tr>\n",
       "    <tr>\n",
       "      <th>Precision</th>\n",
       "      <td>0.969697</td>\n",
       "      <td>0.98</td>\n",
       "      <td>0.86</td>\n",
       "      <td>0.98</td>\n",
       "    </tr>\n",
       "  </tbody>\n",
       "</table>\n",
       "</div>"
      ],
      "text/plain": [
       "           Random Forest Classifier   SVC  Logistic Regression  \\\n",
       "Recall                     0.960000  0.98                 0.86   \n",
       "Precision                  0.969697  0.98                 0.86   \n",
       "\n",
       "           Voting Classifier  \n",
       "Recall                  0.98  \n",
       "Precision               0.98  "
      ]
     },
     "execution_count": 77,
     "metadata": {},
     "output_type": "execute_result"
    }
   ],
   "source": [
    "#Next, we see if a voting classifier with the 3 models will help improve the precision and recall\n",
    "from sklearn.ensemble import VotingClassifier\n",
    "rfc = RandomForestClassifier()\n",
    "svc_cl = SVC()\n",
    "lr = LogisticRegression()\n",
    "vcl = VotingClassifier(estimators=[('rfc', rfc), ('svc', svc_cl), ('lr', lr)]) #creating the voting classifier\n",
    "\n",
    "#Going through the same training and testing process with the voting classifier\n",
    "#Train the classifier\n",
    "vcl.fit(xtrain, ytrain)\n",
    "    \n",
    "#Create prediction for each classifier\n",
    "ytestpred = vcl.predict(xtest)\n",
    "    \n",
    "#Evaluate the recall score\n",
    "recall = recall_score(ytest,ytestpred) #1 is defined as the positive label by default\n",
    "    \n",
    "#Evaluate the precision score\n",
    "precision = precision_score(ytest,ytestpred) #1 is defined as the positive label by default\n",
    "\n",
    "results_df['Voting Classifier'] = [recall, precision]\n",
    "\n",
    "\n",
    "#Based upon the outputted results, we can see that the voting classifier isn't able to improve the precision and recall, but\n",
    "#it performs equivalently as good as the best method, SVC.\n",
    "results_df"
   ]
  },
  {
   "cell_type": "code",
   "execution_count": 78,
   "id": "8d124c3f",
   "metadata": {},
   "outputs": [
    {
     "data": {
      "text/plain": [
       "Text(0.5, 0, 'Method')"
      ]
     },
     "execution_count": 78,
     "metadata": {},
     "output_type": "execute_result"
    },
    {
     "data": {
      "image/png": "[encoded data removed]",
      "text/plain": [
       "<Figure size 1440x576 with 2 Axes>"
      ]
     },
     "metadata": {
      "needs_background": "light"
     },
     "output_type": "display_data"
    }
   ],
   "source": [
    "#To compare and contrast the results, two subplots are created, which display the precisions and recalls\n",
    "plt.figure(figsize=(20,8))\n",
    "\n",
    "plt.subplot(121)\n",
    "\n",
    "plt.bar('Decision Tree Classifier',results_df.iloc[0,0])\n",
    "plt.bar('SVCr',results_df.iloc[0,1])\n",
    "plt.bar('Logistic Regression',results_df.iloc[0,2])\n",
    "plt.bar('Voting Classifier', results_df.iloc[0,3])\n",
    "plt.title('Comparison of Testing Recalls')\n",
    "plt.ylabel('Recall')\n",
    "plt.xlabel('Method')\n",
    "\n",
    "plt.subplot(122)\n",
    "\n",
    "plt.bar('Decision Tree Classifier',results_df.iloc[1,0])\n",
    "plt.bar('SVCr',results_df.iloc[1,1])\n",
    "plt.bar('Logistic Regression',results_df.iloc[1,2])\n",
    "plt.bar('Voting Classifier', results_df.iloc[1,3])\n",
    "plt.title('Comparison of Testing Precisions')\n",
    "plt.ylabel('Recall')\n",
    "plt.xlabel('Method')"
   ]
  },
  {
   "cell_type": "code",
   "execution_count": 79,
   "id": "39f6360d",
   "metadata": {},
   "outputs": [],
   "source": [
    "#This comparison of the precision and recall shows that SVC and the Voting Classifier perform equally as well and are the\n",
    "#best methods. Decision Tree Classifier is nearly equivalently as good as the best two methods, but is very slightly worse\n",
    "#in terms of precision and recall. Lastly, logistic regression still performs well but considerably worse than the\n",
    "#other methods. "
   ]
  }
 ],
 "metadata": {
  "kernelspec": {
   "display_name": "Python 3 (ipykernel)",
   "language": "python",
   "name": "python3"
  },
  "language_info": {
   "codemirror_mode": {
    "name": "ipython",
    "version": 3
   },
   "file_extension": ".py",
   "mimetype": "text/x-python",
   "name": "python",
   "nbconvert_exporter": "python",
   "pygments_lexer": "ipython3",
   "version": "3.9.7"
  }
 },
 "nbformat": 4,
 "nbformat_minor": 5
}
