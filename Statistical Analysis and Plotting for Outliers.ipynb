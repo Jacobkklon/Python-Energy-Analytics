{
 "cells": [
  {
   "cell_type": "code",
   "execution_count": 2,
   "id": "9ea3e2d9",
   "metadata": {},
   "outputs": [],
   "source": [
    "%matplotlib inline\n",
    "import matplotlib.pyplot as plt\n",
    "import matplotlib as mpl\n",
    "import pandas as pd\n",
    "import math\n",
    "import numpy as np"
   ]
  },
  {
   "cell_type": "code",
   "execution_count": 3,
   "id": "80f46cf2",
   "metadata": {},
   "outputs": [],
   "source": [
    "#First we need to create the dataframe:\n",
    "Station_A = [9.867,14.035,10.7,13.853,7.067,11.67,7.357,3.358,\n",
    "            4.210,3.630,2.953,2.640]\n",
    "Station_B = [3.723,8.416,20.723,9.168,4.778,9.145,8.463,4.086,4.233,\n",
    "            2.320,3.843,3.610]\n",
    "Station_C = [4.410,11.100,4.470,8.010,34.080,8.990,3.350,4.500,6.830,\n",
    "            5.800,3.480,3.020]\n",
    "df = pd.DataFrame()\n",
    "df['Station_A'] = Station_A\n",
    "df['Station_B'] = Station_B\n",
    "df['Station_C'] = Station_C\n",
    "df.index = ['January','February','March','April','May',\n",
    "           'June','July','August','September','October','November',\n",
    "            'December']"
   ]
  },
  {
   "cell_type": "code",
   "execution_count": 4,
   "id": "89d7848a",
   "metadata": {},
   "outputs": [],
   "source": [
    "#Part A:\n",
    "#To flag outlier points, we must first establish the Chauvenet criteria\n",
    "#and then loop through the dataframe and identify outlier points\n",
    "mn = df.mean().values\n",
    "stds = df.std().values\n",
    "n = len(df.index)\n",
    "def chauvenet(df):\n",
    "    mn = df.mean()\n",
    "    std = df.std()\n",
    "    n = len(df.index)\n",
    "    dmax = std*(0.891 + 0.544*math.log(n)-0.02346*math.log(n**2))\n",
    "    \n",
    "    error_flag = []\n",
    "    for i in df:\n",
    "        if np.abs(i-mn) > dmax:\n",
    "            error_flag.append(i)\n",
    "    return error_flag\n",
    "\n",
    "errs_A = chauvenet(df['Station_A'])    \n",
    "errs_B = chauvenet(df['Station_B'])  \n",
    "errs_C = chauvenet(df['Station_C'])         \n",
    "    \n",
    "    "
   ]
  },
  {
   "cell_type": "code",
   "execution_count": 5,
   "id": "44aed05b",
   "metadata": {},
   "outputs": [
    {
     "data": {
      "text/plain": [
       "[]"
      ]
     },
     "execution_count": 5,
     "metadata": {},
     "output_type": "execute_result"
    }
   ],
   "source": [
    "#Problematic points for station_A\n",
    "errs_A"
   ]
  },
  {
   "cell_type": "code",
   "execution_count": 6,
   "id": "24532706",
   "metadata": {},
   "outputs": [
    {
     "data": {
      "text/plain": [
       "[20.723]"
      ]
     },
     "execution_count": 6,
     "metadata": {},
     "output_type": "execute_result"
    }
   ],
   "source": [
    "#Problematic points for station_B\n",
    "errs_B"
   ]
  },
  {
   "cell_type": "code",
   "execution_count": 7,
   "id": "d89f396c",
   "metadata": {},
   "outputs": [
    {
     "data": {
      "text/plain": [
       "[34.08]"
      ]
     },
     "execution_count": 7,
     "metadata": {},
     "output_type": "execute_result"
    }
   ],
   "source": [
    "#Problematic points for station_C\n",
    "errs_C"
   ]
  },
  {
   "cell_type": "code",
   "execution_count": 8,
   "id": "92154563",
   "metadata": {},
   "outputs": [
    {
     "data": {
      "text/html": [
       "<div>\n",
       "<style scoped>\n",
       "    .dataframe tbody tr th:only-of-type {\n",
       "        vertical-align: middle;\n",
       "    }\n",
       "\n",
       "    .dataframe tbody tr th {\n",
       "        vertical-align: top;\n",
       "    }\n",
       "\n",
       "    .dataframe thead th {\n",
       "        text-align: right;\n",
       "    }\n",
       "</style>\n",
       "<table border=\"1\" class=\"dataframe\">\n",
       "  <thead>\n",
       "    <tr style=\"text-align: right;\">\n",
       "      <th></th>\n",
       "      <th>Station_A</th>\n",
       "      <th>Station_B</th>\n",
       "      <th>Station_C</th>\n",
       "    </tr>\n",
       "  </thead>\n",
       "  <tbody>\n",
       "    <tr>\n",
       "      <th>count</th>\n",
       "      <td>12.000000</td>\n",
       "      <td>12.000000</td>\n",
       "      <td>12.000000</td>\n",
       "    </tr>\n",
       "    <tr>\n",
       "      <th>mean</th>\n",
       "      <td>7.611667</td>\n",
       "      <td>6.875667</td>\n",
       "      <td>8.170000</td>\n",
       "    </tr>\n",
       "    <tr>\n",
       "      <th>std</th>\n",
       "      <td>4.302311</td>\n",
       "      <td>5.016036</td>\n",
       "      <td>8.533735</td>\n",
       "    </tr>\n",
       "    <tr>\n",
       "      <th>min</th>\n",
       "      <td>2.640000</td>\n",
       "      <td>2.320000</td>\n",
       "      <td>3.020000</td>\n",
       "    </tr>\n",
       "    <tr>\n",
       "      <th>25%</th>\n",
       "      <td>3.562000</td>\n",
       "      <td>3.813000</td>\n",
       "      <td>4.177500</td>\n",
       "    </tr>\n",
       "    <tr>\n",
       "      <th>50%</th>\n",
       "      <td>7.212000</td>\n",
       "      <td>4.505500</td>\n",
       "      <td>5.150000</td>\n",
       "    </tr>\n",
       "    <tr>\n",
       "      <th>75%</th>\n",
       "      <td>10.942500</td>\n",
       "      <td>8.633500</td>\n",
       "      <td>8.255000</td>\n",
       "    </tr>\n",
       "    <tr>\n",
       "      <th>max</th>\n",
       "      <td>14.035000</td>\n",
       "      <td>20.723000</td>\n",
       "      <td>34.080000</td>\n",
       "    </tr>\n",
       "  </tbody>\n",
       "</table>\n",
       "</div>"
      ],
      "text/plain": [
       "       Station_A  Station_B  Station_C\n",
       "count  12.000000  12.000000  12.000000\n",
       "mean    7.611667   6.875667   8.170000\n",
       "std     4.302311   5.016036   8.533735\n",
       "min     2.640000   2.320000   3.020000\n",
       "25%     3.562000   3.813000   4.177500\n",
       "50%     7.212000   4.505500   5.150000\n",
       "75%    10.942500   8.633500   8.255000\n",
       "max    14.035000  20.723000  34.080000"
      ]
     },
     "execution_count": 8,
     "metadata": {},
     "output_type": "execute_result"
    }
   ],
   "source": [
    "#Part B: Computing relevant statistical measures\n",
    "#Calculating means, standard deviations, medians, maximums, minimums, and interquartile ranges\n",
    "df.describe()\n",
    "#Note - 25% to 75% is the IQR of each\n",
    "#Note - 50% is the median"
   ]
  },
  {
   "cell_type": "code",
   "execution_count": 22,
   "id": "9d273d9c",
   "metadata": {},
   "outputs": [
    {
     "data": {
      "image/png": "[encoded data removed]",
      "text/plain": [
       "<Figure size 1152x720 with 1 Axes>"
      ]
     },
     "metadata": {
      "needs_background": "light"
     },
     "output_type": "display_data"
    }
   ],
   "source": [
    "#Part C: Generating pertinent graphical plots\n",
    "\n",
    "#First, we create a side-by-side bar chart comparing the values for each month\n",
    "X_axis = np.arange(len(df.index))*2 #the *2 is necessary to scale the x-axis to fit the third bar\n",
    "plt.figure(figsize=(16,10))\n",
    "  \n",
    "plt.bar(X_axis - 0.2, df['Station_A'], 0.4, label = 'Station_A')\n",
    "plt.bar(X_axis + 0.2, df['Station_B'], 0.4, label = 'Station_B')\n",
    "plt.bar(X_axis + 0.6, df['Station_C'], 0.4, label = 'Station_C')\n",
    "  \n",
    "plt.xticks(X_axis, df.index)\n",
    "plt.xlabel(\"Month\")\n",
    "plt.ylabel(\"Chlorophyll Concentration\")\n",
    "plt.title(\"Comparison of Chlorophyll Concentrations\")\n",
    "plt.legend()\n",
    "plt.show()"
   ]
  },
  {
   "cell_type": "code",
   "execution_count": 31,
   "id": "09d9688a",
   "metadata": {},
   "outputs": [
    {
     "data": {
      "text/plain": [
       "Text(0.5, 1.0, 'Histogram of Chlorophyll Concentrations')"
      ]
     },
     "execution_count": 31,
     "metadata": {},
     "output_type": "execute_result"
    },
    {
     "data": {
      "image/png": "[encoded data removed]",
      "text/plain": [
       "<Figure size 1152x720 with 1 Axes>"
      ]
     },
     "metadata": {
      "needs_background": "light"
     },
     "output_type": "display_data"
    }
   ],
   "source": [
    "#Then, we create a histogram that describes all of the data\n",
    "#This requires making a list of all the data and using that\n",
    "stations = Station_A + Station_B + Station_C\n",
    "plt.figure(figsize=(16,10))\n",
    "plt.hist(stations)\n",
    "plt.xlabel(\"Bins of Chlorophyll Concentration Values\")\n",
    "plt.ylabel(\"Frequency of Results\")\n",
    "plt.title(\"Histogram of Chlorophyll Concentrations\")"
   ]
  },
  {
   "cell_type": "code",
   "execution_count": 36,
   "id": "78773c9f",
   "metadata": {},
   "outputs": [
    {
     "data": {
      "text/plain": [
       "Text(0.5, 1.0, 'Chlorophyll Concentrations Station C')"
      ]
     },
     "execution_count": 36,
     "metadata": {},
     "output_type": "execute_result"
    },
    {
     "data": {
      "image/png": "[encoded data removed]",
      "text/plain": [
       "<Figure size 1152x720 with 3 Axes>"
      ]
     },
     "metadata": {
      "needs_background": "light"
     },
     "output_type": "display_data"
    }
   ],
   "source": [
    "#Lastly, creating side-by-side box and whisker plot to describe the readings\n",
    "plt.figure(figsize=(16,10))\n",
    "plt.subplot(131)\n",
    "plt.boxplot(Station_A)\n",
    "plt.ylabel(\"Chlorophyll Concentration\")\n",
    "plt.title(\"Chlorophyll Concentrations Station A\")\n",
    "\n",
    "plt.subplot(132)\n",
    "plt.boxplot(Station_B)\n",
    "plt.ylabel(\"Chlorophyll Concentration\")\n",
    "plt.title(\"Chlorophyll Concentrations Station B\")\n",
    "\n",
    "plt.subplot(133)\n",
    "plt.boxplot(Station_C)\n",
    "plt.ylabel(\"Chlorophyll Concentration\")\n",
    "plt.title(\"Chlorophyll Concentrations Station C\")"
   ]
  },
  {
   "cell_type": "code",
   "execution_count": 45,
   "id": "e358675a",
   "metadata": {},
   "outputs": [
    {
     "name": "stdout",
     "output_type": "stream",
     "text": [
      "The correlation coefficient Corr_AB has a value of 0.5862311610209664\n",
      "The correlation coefficient Corr_AC has a value of 0.1619779717943397\n",
      "The correlation coefficient Corr_BC has a value of -0.08443637095782147\n"
     ]
    }
   ],
   "source": [
    "#Part D: Computing correlation coefficients between each of the stations and printing them\n",
    "from scipy.stats import pearsonr\n",
    "Corr_AB = pearsonr(Station_A,Station_B)[0]\n",
    "Corr_AC = pearsonr(Station_A,Station_C)[0]\n",
    "Corr_BC = pearsonr(Station_B,Station_C)[0]\n",
    "corlist = [Corr_AB,Corr_AC,Corr_BC]\n",
    "cornames = ['Corr_AB','Corr_AC','Corr_BC']\n",
    "for i in range(0,3):\n",
    "    print(f'The correlation coefficient {cornames[i]} has a value of {corlist[i]}')"
   ]
  },
  {
   "cell_type": "code",
   "execution_count": null,
   "id": "5f587532",
   "metadata": {},
   "outputs": [],
   "source": []
  },
  {
   "cell_type": "code",
   "execution_count": null,
   "id": "1144fbfc",
   "metadata": {},
   "outputs": [],
   "source": []
  }
 ],
 "metadata": {
  "kernelspec": {
   "display_name": "Python 3 (ipykernel)",
   "language": "python",
   "name": "python3"
  },
  "language_info": {
   "codemirror_mode": {
    "name": "ipython",
    "version": 3
   },
   "file_extension": ".py",
   "mimetype": "text/x-python",
   "name": "python",
   "nbconvert_exporter": "python",
   "pygments_lexer": "ipython3",
   "version": "3.9.7"
  }
 },
 "nbformat": 4,
 "nbformat_minor": 5
}
